{
 "cells": [
  {
   "cell_type": "code",
   "execution_count": 1,
   "metadata": {},
   "outputs": [],
   "source": [
    "# Self Organizing Map\n",
    "'''\n",
    "basic theory\n",
    "In soms the dimensionality of the input dataset is decreased to generally two dimension and this is \n",
    "done as neurons are present with random weights in them and each row distance is calculated with the\n",
    "distance of the neurons and closest neuron is selected and adjusted accordingly......\n",
    "'''\n",
    "# Importing the libraries\n",
    "import numpy as np\n",
    "import matplotlib.pyplot as plt\n",
    "import pandas as pd\n",
    "\n",
    "# Importing the dataset\n",
    "dataset = pd.read_csv('Credit_Card_Applications.csv')\n",
    "X = dataset.iloc[:, :-1].values\n",
    "y = dataset.iloc[:, -1].values"
   ]
  },
  {
   "cell_type": "code",
   "execution_count": 2,
   "metadata": {},
   "outputs": [],
   "source": [
    "# Feature Scaling\n",
    "from sklearn.preprocessing import MinMaxScaler\n",
    "sc = MinMaxScaler(feature_range = (0, 1))\n",
    "X = sc.fit_transform(X)"
   ]
  },
  {
   "cell_type": "code",
   "execution_count": 3,
   "metadata": {},
   "outputs": [],
   "source": [
    "# Training the SOM\n",
    "# this minisom is available for usage online, other code can be used to if implementation is good or it can \n",
    "# build from scratch\n",
    "from minisom import MiniSom\n",
    "# x and y are dimension of the grid i.e. soms, input_len is the number of columns in input dataset,\n",
    "# sigma is radius of the different neighbourhood in the grid, learning rate how frequently weights\n",
    "# need to be updated\n",
    "som = MiniSom(x = 10, y = 10, input_len = 15, sigma = 1.0, learning_rate = 0.5)\n",
    "som.random_weights_init(X) # initialize the weights of the neurons randomly\n",
    "som.train_random(data = X, num_iteration = 100)"
   ]
  },
  {
   "cell_type": "code",
   "execution_count": 4,
   "metadata": {},
   "outputs": [
    {
     "data": {
      "image/png": "[encoded data removed]",
      "text/plain": [
       "<Figure size 432x288 with 2 Axes>"
      ]
     },
     "metadata": {
      "needs_background": "light"
     },
     "output_type": "display_data"
    }
   ],
   "source": [
    "# Visualizing the results\n",
    "'''\n",
    "we will visualize all the winning nodes in network. MID(mean inter-neuron distance) of a winning node\n",
    "is the mean of the distance of all the nodes around the winning  node in its radius. So higher the MID\n",
    "the node will be further from its neighbour. So a higher MID node is an outlier\n",
    "'''\n",
    "# we are not using  matplotlib or any other library as we have to plot a specific map\n",
    "from pylab import bone, pcolor, colorbar, plot, show\n",
    "bone() #window which will show the plot\n",
    "pcolor(som.distance_map().T) #gives MID matrix transpose\n",
    "colorbar()\n",
    "markers = ['o', 's']\n",
    "colors = ['r', 'g'] #red for customers who got approval present in variable y and green who do not got approval\n",
    "# as people who didn't got approval and are outlier are major fraud\n",
    "for i, x in enumerate(X):\n",
    "    w = som.winner(x) # winning node for a specific customer, w is co-ordinate of the winning node x and y\n",
    "#     but since this is the lower left corner of the square and we want to put the marker in the middle \n",
    "# markers[y[i]] is done to check with the orignal dataset that whether customer got approval or not\n",
    "    plot(w[0] + 0.5,\n",
    "         w[1] + 0.5,\n",
    "         markers[y[i]],\n",
    "         markeredgecolor = colors[y[i]],\n",
    "         markerfacecolor = 'None',\n",
    "         markersize = 10,\n",
    "         markeredgewidth = 2)\n",
    "show()"
   ]
  },
  {
   "cell_type": "code",
   "execution_count": 12,
   "metadata": {},
   "outputs": [],
   "source": [
    "# Finding the frauds\n",
    "# win map gives us dictionary of all the customer in the winning node\n",
    "mappings = som.win_map(X)\n",
    "frauds = np.concatenate((mappings[(4,8)], mappings[(8,7)]), axis = 0) #co-ordinates of the possible outliers\n",
    "'''\n",
    "to detect outliers the higer MID the more chances of it being an outlier and combining that with\n",
    "customers who didn't got approval i.e red markers\n",
    "'''\n",
    "frauds = sc.inverse_transform(frauds) #since the columns were scaled we need to scale them back"
   ]
  },
  {
   "cell_type": "code",
   "execution_count": 13,
   "metadata": {},
   "outputs": [
    {
     "data": {
      "text/plain": [
       "array([[1.5766183e+07, 0.0000000e+00, 2.4500000e+01, 5.0000000e-01,\n",
       "        2.0000000e+00, 1.1000000e+01, 8.0000000e+00, 1.5000000e+00,\n",
       "        1.0000000e+00, 0.0000000e+00, 0.0000000e+00, 0.0000000e+00,\n",
       "        2.0000000e+00, 2.8000000e+02, 8.2500000e+02],\n",
       "       [1.5808662e+07, 0.0000000e+00, 4.6000000e+01, 4.0000000e+00,\n",
       "        2.0000000e+00, 5.0000000e+00, 3.0000000e+00, 0.0000000e+00,\n",
       "        1.0000000e+00, 0.0000000e+00, 0.0000000e+00, 0.0000000e+00,\n",
       "        2.0000000e+00, 1.0000000e+02, 9.6100000e+02],\n",
       "       [1.5684722e+07, 0.0000000e+00, 2.7670000e+01, 1.5000000e+00,\n",
       "        2.0000000e+00, 7.0000000e+00, 4.0000000e+00, 2.0000000e+00,\n",
       "        1.0000000e+00, 0.0000000e+00, 0.0000000e+00, 0.0000000e+00,\n",
       "        1.0000000e+00, 3.6800000e+02, 1.0000000e+00],\n",
       "       [1.5734649e+07, 0.0000000e+00, 4.0830000e+01, 1.0000000e+01,\n",
       "        2.0000000e+00, 1.1000000e+01, 8.0000000e+00, 1.7500000e+00,\n",
       "        1.0000000e+00, 0.0000000e+00, 0.0000000e+00, 0.0000000e+00,\n",
       "        2.0000000e+00, 2.9000000e+01, 8.3800000e+02],\n",
       "       [1.5757188e+07, 0.0000000e+00, 2.0830000e+01, 3.0000000e+00,\n",
       "        2.0000000e+00, 6.0000000e+00, 4.0000000e+00, 4.0000000e-02,\n",
       "        1.0000000e+00, 0.0000000e+00, 0.0000000e+00, 0.0000000e+00,\n",
       "        2.0000000e+00, 1.0000000e+02, 1.0000000e+00],\n",
       "       [1.5647191e+07, 0.0000000e+00, 3.2330000e+01, 5.4000000e-01,\n",
       "        2.0000000e+00, 1.3000000e+01, 4.0000000e+00, 4.0000000e-02,\n",
       "        1.0000000e+00, 0.0000000e+00, 0.0000000e+00, 0.0000000e+00,\n",
       "        2.0000000e+00, 4.4000000e+02, 1.1178000e+04],\n",
       "       [1.5776545e+07, 0.0000000e+00, 2.5000000e+01, 1.1000000e+01,\n",
       "        1.0000000e+00, 6.0000000e+00, 4.0000000e+00, 4.5000000e+00,\n",
       "        1.0000000e+00, 0.0000000e+00, 0.0000000e+00, 0.0000000e+00,\n",
       "        2.0000000e+00, 1.2000000e+02, 1.0000000e+00],\n",
       "       [1.5792107e+07, 0.0000000e+00, 3.3920000e+01, 1.5850000e+00,\n",
       "        1.0000000e+00, 1.0000000e+00, 1.0000000e+00, 0.0000000e+00,\n",
       "        1.0000000e+00, 0.0000000e+00, 0.0000000e+00, 0.0000000e+00,\n",
       "        2.0000000e+00, 3.2000000e+02, 1.0000000e+00],\n",
       "       [1.5623369e+07, 0.0000000e+00, 4.4330000e+01, 0.0000000e+00,\n",
       "        2.0000000e+00, 8.0000000e+00, 4.0000000e+00, 2.5000000e+00,\n",
       "        1.0000000e+00, 0.0000000e+00, 0.0000000e+00, 0.0000000e+00,\n",
       "        2.0000000e+00, 0.0000000e+00, 1.0000000e+00],\n",
       "       [1.5793896e+07, 0.0000000e+00, 2.8420000e+01, 3.5000000e+00,\n",
       "        2.0000000e+00, 9.0000000e+00, 4.0000000e+00, 8.3500000e-01,\n",
       "        1.0000000e+00, 0.0000000e+00, 0.0000000e+00, 0.0000000e+00,\n",
       "        1.0000000e+00, 2.8000000e+02, 1.0000000e+00],\n",
       "       [1.5650591e+07, 0.0000000e+00, 2.6080000e+01, 8.6650000e+00,\n",
       "        2.0000000e+00, 6.0000000e+00, 4.0000000e+00, 1.4150000e+00,\n",
       "        1.0000000e+00, 0.0000000e+00, 0.0000000e+00, 0.0000000e+00,\n",
       "        2.0000000e+00, 1.6000000e+02, 1.5100000e+02],\n",
       "       [1.5813192e+07, 0.0000000e+00, 2.4920000e+01, 1.2500000e+00,\n",
       "        2.0000000e+00, 1.0000000e+00, 1.0000000e+00, 0.0000000e+00,\n",
       "        1.0000000e+00, 0.0000000e+00, 0.0000000e+00, 0.0000000e+00,\n",
       "        2.0000000e+00, 8.0000000e+01, 1.0000000e+00],\n",
       "       [1.5675450e+07, 0.0000000e+00, 1.8830000e+01, 9.5400000e+00,\n",
       "        2.0000000e+00, 6.0000000e+00, 4.0000000e+00, 8.5000000e-02,\n",
       "        1.0000000e+00, 0.0000000e+00, 0.0000000e+00, 0.0000000e+00,\n",
       "        2.0000000e+00, 1.0000000e+02, 1.0000000e+00],\n",
       "       [1.5565714e+07, 1.0000000e+00, 4.2750000e+01, 4.0850000e+00,\n",
       "        2.0000000e+00, 6.0000000e+00, 4.0000000e+00, 4.0000000e-02,\n",
       "        0.0000000e+00, 0.0000000e+00, 0.0000000e+00, 0.0000000e+00,\n",
       "        2.0000000e+00, 1.0800000e+02, 1.0100000e+02]])"
      ]
     },
     "execution_count": 13,
     "metadata": {},
     "output_type": "execute_result"
    }
   ],
   "source": [
    "frauds"
   ]
  },
  {
   "cell_type": "code",
   "execution_count": null,
   "metadata": {},
   "outputs": [],
   "source": []
  }
 ],
 "metadata": {
  "kernelspec": {
   "display_name": "Python 3",
   "language": "python",
   "name": "python3"
  },
  "language_info": {
   "codemirror_mode": {
    "name": "ipython",
    "version": 3
   },
   "file_extension": ".py",
   "mimetype": "text/x-python",
   "name": "python",
   "nbconvert_exporter": "python",
   "pygments_lexer": "ipython3",
   "version": "3.5.6"
  }
 },
 "nbformat": 4,
 "nbformat_minor": 2
}
